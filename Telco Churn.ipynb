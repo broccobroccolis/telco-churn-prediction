{
  "nbformat": 4,
  "nbformat_minor": 0,
  "metadata": {
    "colab": {
      "name": "Telco churn.ipynb",
      "provenance": []
    },
    "kernelspec": {
      "name": "python3",
      "display_name": "Python 3"
    },
    "language_info": {
      "name": "python"
    }
  },
  "cells": [
    {
      "cell_type": "code",
      "execution_count": null,
      "metadata": {
        "id": "19xDba4Ya1_n"
      },
      "outputs": [],
      "source": [
        "import numpy as np\n",
        "import pandas as pd\n",
        "import seaborn as sns\n",
        "import matplotlib.pyplot as plt"
      ]
    },
    {
      "cell_type": "code",
      "source": [
        "!pip install pyspark"
      ],
      "metadata": {
        "colab": {
          "base_uri": "https://localhost:8080/"
        },
        "id": "ZJutu3xLeej0",
        "outputId": "cac38379-946d-4889-97bc-40262a1f484b"
      },
      "execution_count": null,
      "outputs": [
        {
          "output_type": "stream",
          "name": "stdout",
          "text": [
            "Collecting pyspark\n",
            "  Downloading pyspark-3.2.1.tar.gz (281.4 MB)\n",
            "\u001b[K     |████████████████████████████████| 281.4 MB 33 kB/s \n",
            "\u001b[?25hCollecting py4j==0.10.9.3\n",
            "  Downloading py4j-0.10.9.3-py2.py3-none-any.whl (198 kB)\n",
            "\u001b[K     |████████████████████████████████| 198 kB 49.9 MB/s \n",
            "\u001b[?25hBuilding wheels for collected packages: pyspark\n",
            "  Building wheel for pyspark (setup.py) ... \u001b[?25l\u001b[?25hdone\n",
            "  Created wheel for pyspark: filename=pyspark-3.2.1-py2.py3-none-any.whl size=281853642 sha256=cd5563d45426f9dd15ca10e534a8659c5578457b7f1caba8f8ea8bea5761f9b4\n",
            "  Stored in directory: /root/.cache/pip/wheels/9f/f5/07/7cd8017084dce4e93e84e92efd1e1d5334db05f2e83bcef74f\n",
            "Successfully built pyspark\n",
            "Installing collected packages: py4j, pyspark\n",
            "Successfully installed py4j-0.10.9.3 pyspark-3.2.1\n"
          ]
        }
      ]
    },
    {
      "cell_type": "code",
      "source": [
        "import pyspark"
      ],
      "metadata": {
        "id": "2i5sRUctef0a"
      },
      "execution_count": null,
      "outputs": []
    },
    {
      "cell_type": "code",
      "source": [
        "from pyspark.sql import SparkSession\n",
        "spark = SparkSession \\\n",
        "    .builder \\\n",
        "    .appName(\"Telco churn\") \\\n",
        "    .enableHiveSupport() \\\n",
        "    .getOrCreate()"
      ],
      "metadata": {
        "colab": {
          "base_uri": "https://localhost:8080/",
          "height": 218
        },
        "id": "ha2Yqi7Yehhr",
        "outputId": "dbd31281-ea5a-4c96-a16b-c253c7cd954e"
      },
      "execution_count": null,
      "outputs": [
        {
          "output_type": "execute_result",
          "data": {
            "text/html": [
              "\n",
              "            <div>\n",
              "                <p><b>SparkSession - in-memory</b></p>\n",
              "                \n",
              "        <div>\n",
              "            <p><b>SparkContext</b></p>\n",
              "\n",
              "            <p><a href=\"http://68af3753cdf5:4040\">Spark UI</a></p>\n",
              "\n",
              "            <dl>\n",
              "              <dt>Version</dt>\n",
              "                <dd><code>v3.2.1</code></dd>\n",
              "              <dt>Master</dt>\n",
              "                <dd><code>local[*]</code></dd>\n",
              "              <dt>AppName</dt>\n",
              "                <dd><code>Water Potability</code></dd>\n",
              "            </dl>\n",
              "        </div>\n",
              "        \n",
              "            </div>\n",
              "        "
            ],
            "text/plain": [
              "<pyspark.sql.session.SparkSession at 0x7f4133a3e250>"
            ]
          },
          "metadata": {},
          "execution_count": 5
        }
      ]
    },
    {
      "cell_type": "code",
      "source": [
        "from google.colab import drive\n",
        "drive.mount(\"/content/gdrive\")"
      ],
      "metadata": {
        "colab": {
          "base_uri": "https://localhost:8080/"
        },
        "id": "0u-tcHrqekpw",
        "outputId": "08cca65d-85d6-47e2-c7be-5e46c3841fc7"
      },
      "execution_count": null,
      "outputs": [
        {
          "output_type": "stream",
          "name": "stdout",
          "text": [
            "Mounted at /content/gdrive\n"
          ]
        }
      ]
    },
    {
      "cell_type": "code",
      "source": [
        "df = pd.read_csv('/content/gdrive/MyDrive/WIH3003 Big Data/BDA Case Study/Telco-Customer-Churn.csv')"
      ],
      "metadata": {
        "id": "Jl5LwbyXenA7"
      },
      "execution_count": null,
      "outputs": []
    },
    {
      "cell_type": "code",
      "source": [
        "df = spark.createDataFrame(df)\n",
        "df.show()"
      ],
      "metadata": {
        "colab": {
          "base_uri": "https://localhost:8080/"
        },
        "id": "5fX6RVjaerAB",
        "outputId": "37573c18-bd20-4176-fedc-5308e4a008b1"
      },
      "execution_count": null,
      "outputs": [
        {
          "output_type": "stream",
          "name": "stdout",
          "text": [
            "+----------+------+-------------+-------+----------+------+------------+----------------+---------------+-------------------+-------------------+-------------------+-------------------+-------------------+-------------------+--------------+----------------+--------------------+--------------+------------+-----+\n",
            "|customerID|gender|SeniorCitizen|Partner|Dependents|tenure|PhoneService|   MultipleLines|InternetService|     OnlineSecurity|       OnlineBackup|   DeviceProtection|        TechSupport|        StreamingTV|    StreamingMovies|      Contract|PaperlessBilling|       PaymentMethod|MonthlyCharges|TotalCharges|Churn|\n",
            "+----------+------+-------------+-------+----------+------+------------+----------------+---------------+-------------------+-------------------+-------------------+-------------------+-------------------+-------------------+--------------+----------------+--------------------+--------------+------------+-----+\n",
            "|7590-VHVEG|Female|            0|    Yes|        No|     1|          No|No phone service|            DSL|                 No|                Yes|                 No|                 No|                 No|                 No|Month-to-month|             Yes|    Electronic check|         29.85|       29.85|   No|\n",
            "|5575-GNVDE|  Male|            0|     No|        No|    34|         Yes|              No|            DSL|                Yes|                 No|                Yes|                 No|                 No|                 No|      One year|              No|        Mailed check|         56.95|      1889.5|   No|\n",
            "|3668-QPYBK|  Male|            0|     No|        No|     2|         Yes|              No|            DSL|                Yes|                Yes|                 No|                 No|                 No|                 No|Month-to-month|             Yes|        Mailed check|         53.85|      108.15|  Yes|\n",
            "|7795-CFOCW|  Male|            0|     No|        No|    45|          No|No phone service|            DSL|                Yes|                 No|                Yes|                Yes|                 No|                 No|      One year|              No|Bank transfer (au...|          42.3|     1840.75|   No|\n",
            "|9237-HQITU|Female|            0|     No|        No|     2|         Yes|              No|    Fiber optic|                 No|                 No|                 No|                 No|                 No|                 No|Month-to-month|             Yes|    Electronic check|          70.7|      151.65|  Yes|\n",
            "|9305-CDSKC|Female|            0|     No|        No|     8|         Yes|             Yes|    Fiber optic|                 No|                 No|                Yes|                 No|                Yes|                Yes|Month-to-month|             Yes|    Electronic check|         99.65|       820.5|  Yes|\n",
            "|1452-KIOVK|  Male|            0|     No|       Yes|    22|         Yes|             Yes|    Fiber optic|                 No|                Yes|                 No|                 No|                Yes|                 No|Month-to-month|             Yes|Credit card (auto...|          89.1|      1949.4|   No|\n",
            "|6713-OKOMC|Female|            0|     No|        No|    10|          No|No phone service|            DSL|                Yes|                 No|                 No|                 No|                 No|                 No|Month-to-month|              No|        Mailed check|         29.75|       301.9|   No|\n",
            "|7892-POOKP|Female|            0|    Yes|        No|    28|         Yes|             Yes|    Fiber optic|                 No|                 No|                Yes|                Yes|                Yes|                Yes|Month-to-month|             Yes|    Electronic check|         104.8|     3046.05|  Yes|\n",
            "|6388-TABGU|  Male|            0|     No|       Yes|    62|         Yes|              No|            DSL|                Yes|                Yes|                 No|                 No|                 No|                 No|      One year|              No|Bank transfer (au...|         56.15|     3487.95|   No|\n",
            "|9763-GRSKD|  Male|            0|    Yes|       Yes|    13|         Yes|              No|            DSL|                Yes|                 No|                 No|                 No|                 No|                 No|Month-to-month|             Yes|        Mailed check|         49.95|      587.45|   No|\n",
            "|7469-LKBCI|  Male|            0|     No|        No|    16|         Yes|              No|             No|No internet service|No internet service|No internet service|No internet service|No internet service|No internet service|      Two year|              No|Credit card (auto...|         18.95|       326.8|   No|\n",
            "|8091-TTVAX|  Male|            0|    Yes|        No|    58|         Yes|             Yes|    Fiber optic|                 No|                 No|                Yes|                 No|                Yes|                Yes|      One year|              No|Credit card (auto...|        100.35|      5681.1|   No|\n",
            "|0280-XJGEX|  Male|            0|     No|        No|    49|         Yes|             Yes|    Fiber optic|                 No|                Yes|                Yes|                 No|                Yes|                Yes|Month-to-month|             Yes|Bank transfer (au...|         103.7|      5036.3|  Yes|\n",
            "|5129-JLPIS|  Male|            0|     No|        No|    25|         Yes|              No|    Fiber optic|                Yes|                 No|                Yes|                Yes|                Yes|                Yes|Month-to-month|             Yes|    Electronic check|         105.5|     2686.05|   No|\n",
            "|3655-SNQYZ|Female|            0|    Yes|       Yes|    69|         Yes|             Yes|    Fiber optic|                Yes|                Yes|                Yes|                Yes|                Yes|                Yes|      Two year|              No|Credit card (auto...|        113.25|     7895.15|   No|\n",
            "|8191-XWSZG|Female|            0|     No|        No|    52|         Yes|              No|             No|No internet service|No internet service|No internet service|No internet service|No internet service|No internet service|      One year|              No|        Mailed check|         20.65|     1022.95|   No|\n",
            "|9959-WOFKT|  Male|            0|     No|       Yes|    71|         Yes|             Yes|    Fiber optic|                Yes|                 No|                Yes|                 No|                Yes|                Yes|      Two year|              No|Bank transfer (au...|         106.7|     7382.25|   No|\n",
            "|4190-MFLUW|Female|            0|    Yes|       Yes|    10|         Yes|              No|            DSL|                 No|                 No|                Yes|                Yes|                 No|                 No|Month-to-month|              No|Credit card (auto...|          55.2|      528.35|  Yes|\n",
            "|4183-MYFRB|Female|            0|     No|        No|    21|         Yes|              No|    Fiber optic|                 No|                Yes|                Yes|                 No|                 No|                Yes|Month-to-month|             Yes|    Electronic check|         90.05|      1862.9|   No|\n",
            "+----------+------+-------------+-------+----------+------+------------+----------------+---------------+-------------------+-------------------+-------------------+-------------------+-------------------+-------------------+--------------+----------------+--------------------+--------------+------------+-----+\n",
            "only showing top 20 rows\n",
            "\n"
          ]
        }
      ]
    },
    {
      "cell_type": "code",
      "source": [
        "churnSchema = StructType() \\\n",
        "                    \t.add(\"customerID\", \"string\")\\\n",
        "                    \t.add(\"gender\", \"string\")\\\n",
        "                    \t.add(\"SeniorCitizen\", \"long\")\\\n",
        "                    \t.add(\"Partner\", \"string\")\\\n",
        "                      .add(\"Dependents\", \"string\")\\\n",
        "                    \t.add(\"tenure\", \"long\")\\\n",
        "                    \t.add(\"PhoneService\", \"string\")\\\n",
        "                    \t.add(\"MultipleLines\", \"string\")\\\n",
        "                    \t.add(\"InternetService\", \"string\")\\\n",
        "                    \t.add(\"OnlineSecurity\", \"string\")\\\n",
        "                    \t.add(\"OnlineBackup\", \"string\")\\\n",
        "                    \t.add(\"DeviceProtection\", \"string\")\\\n",
        "                    \t.add(\"TechSupport\", \"string\")\\\n",
        "                    \t.add(\"StreamingTV\", \"string\")\\\n",
        "                    \t.add(\"StreamingMovies\", \"string\")\\\n",
        "                    \t.add(\"Contract\", \"string\")\\\n",
        "                    \t.add(\"PaperlessBilling\", \"string\")\\\n",
        "                    \t.add(\"PaymentMethod\", \"string\")\\\n",
        "                    \t.add(\"MonthlyCharges\", \"double\")\\\n",
        "                    \t.add(\"TotalCharges\", \"string\")\\\n",
        "                    \t.add(\"Churn\", \"string\")"
      ],
      "metadata": {
        "id": "3pdGN3gECXYW"
      },
      "execution_count": null,
      "outputs": []
    },
    {
      "cell_type": "code",
      "source": [
        "df=spark.read.csv(\"hdfs://localhost:9000/telco_customer_churn\", schema=churnSchema)\n",
        "df.show(5)"
      ],
      "metadata": {
        "colab": {
          "base_uri": "https://localhost:8080/"
        },
        "id": "7rEaHPQZDMn2",
        "outputId": "b7cffdfa-dd32-42bb-d8c0-d2a330b5f676"
      },
      "execution_count": null,
      "outputs": [
        {
          "output_type": "stream",
          "name": "stdout",
          "text": [
            "+----------+------+-------------+-------+----------+------+------------+----------------+---------------+--------------+------------+----------------+-----------+-----------+---------------+--------------+----------------+--------------------+--------------+------------+-----+\n",
            "|customerID|gender|SeniorCitizen|Partner|Dependents|tenure|PhoneService|   MultipleLines|InternetService|OnlineSecurity|OnlineBackup|DeviceProtection|TechSupport|StreamingTV|StreamingMovies|      Contract|PaperlessBilling|       PaymentMethod|MonthlyCharges|TotalCharges|Churn|\n",
            "+----------+------+-------------+-------+----------+------+------------+----------------+---------------+--------------+------------+----------------+-----------+-----------+---------------+--------------+----------------+--------------------+--------------+------------+-----+\n",
            "|7590-VHVEG|Female|            0|    Yes|        No|     1|          No|No phone service|            DSL|            No|         Yes|              No|         No|         No|             No|Month-to-month|             Yes|    Electronic check|         29.85|       29.85|   No|\n",
            "|5575-GNVDE|  Male|            0|     No|        No|    34|         Yes|              No|            DSL|           Yes|          No|             Yes|         No|         No|             No|      One year|              No|        Mailed check|         56.95|      1889.5|   No|\n",
            "|3668-QPYBK|  Male|            0|     No|        No|     2|         Yes|              No|            DSL|           Yes|         Yes|              No|         No|         No|             No|Month-to-month|             Yes|        Mailed check|         53.85|      108.15|  Yes|\n",
            "|7795-CFOCW|  Male|            0|     No|        No|    45|          No|No phone service|            DSL|           Yes|          No|             Yes|        Yes|         No|             No|      One year|              No|Bank transfer (au...|          42.3|     1840.75|   No|\n",
            "|9237-HQITU|Female|            0|     No|        No|     2|         Yes|              No|    Fiber optic|            No|          No|              No|         No|         No|             No|Month-to-month|             Yes|    Electronic check|          70.7|      151.65|  Yes|\n",
            "+----------+------+-------------+-------+----------+------+------------+----------------+---------------+--------------+------------+----------------+-----------+-----------+---------------+--------------+----------------+--------------------+--------------+------------+-----+\n",
            "only showing top 5 rows\n",
            "\n"
          ]
        }
      ]
    },
    {
      "cell_type": "code",
      "source": [
        "df.printSchema()"
      ],
      "metadata": {
        "colab": {
          "base_uri": "https://localhost:8080/"
        },
        "id": "sDjxOwfM-uoj",
        "outputId": "05e1e50a-168f-4a17-9936-b06677f4378d"
      },
      "execution_count": null,
      "outputs": [
        {
          "output_type": "stream",
          "name": "stdout",
          "text": [
            "root\n",
            " |-- customerID: string (nullable = true)\n",
            " |-- gender: string (nullable = true)\n",
            " |-- SeniorCitizen: long (nullable = true)\n",
            " |-- Partner: string (nullable = true)\n",
            " |-- Dependents: string (nullable = true)\n",
            " |-- tenure: long (nullable = true)\n",
            " |-- PhoneService: string (nullable = true)\n",
            " |-- MultipleLines: string (nullable = true)\n",
            " |-- InternetService: string (nullable = true)\n",
            " |-- OnlineSecurity: string (nullable = true)\n",
            " |-- OnlineBackup: string (nullable = true)\n",
            " |-- DeviceProtection: string (nullable = true)\n",
            " |-- TechSupport: string (nullable = true)\n",
            " |-- StreamingTV: string (nullable = true)\n",
            " |-- StreamingMovies: string (nullable = true)\n",
            " |-- Contract: string (nullable = true)\n",
            " |-- PaperlessBilling: string (nullable = true)\n",
            " |-- PaymentMethod: string (nullable = true)\n",
            " |-- MonthlyCharges: double (nullable = true)\n",
            " |-- TotalCharges: string (nullable = true)\n",
            " |-- Churn: string (nullable = true)\n",
            "\n"
          ]
        }
      ]
    },
    {
      "cell_type": "code",
      "source": [
        "df.dtypes"
      ],
      "metadata": {
        "colab": {
          "base_uri": "https://localhost:8080/"
        },
        "id": "OGDU7YZEe7uT",
        "outputId": "6f867047-424b-424c-9e13-716e7fccfe70"
      },
      "execution_count": null,
      "outputs": [
        {
          "output_type": "execute_result",
          "data": {
            "text/plain": [
              "[('customerID', 'string'),\n",
              " ('gender', 'string'),\n",
              " ('SeniorCitizen', 'bigint'),\n",
              " ('Partner', 'string'),\n",
              " ('Dependents', 'string'),\n",
              " ('tenure', 'bigint'),\n",
              " ('PhoneService', 'string'),\n",
              " ('MultipleLines', 'string'),\n",
              " ('InternetService', 'string'),\n",
              " ('OnlineSecurity', 'string'),\n",
              " ('OnlineBackup', 'string'),\n",
              " ('DeviceProtection', 'string'),\n",
              " ('TechSupport', 'string'),\n",
              " ('StreamingTV', 'string'),\n",
              " ('StreamingMovies', 'string'),\n",
              " ('Contract', 'string'),\n",
              " ('PaperlessBilling', 'string'),\n",
              " ('PaymentMethod', 'string'),\n",
              " ('MonthlyCharges', 'double'),\n",
              " ('TotalCharges', 'string'),\n",
              " ('Churn', 'string')]"
            ]
          },
          "metadata": {},
          "execution_count": 23
        }
      ]
    },
    {
      "cell_type": "code",
      "source": [
        "from pyspark.sql.functions import isnan, when, count, col\n",
        "df.select([count(when(isnan(c), c)).alias(c) for c in df.columns]).show()"
      ],
      "metadata": {
        "colab": {
          "base_uri": "https://localhost:8080/"
        },
        "id": "Phdmnx5Ve7_m",
        "outputId": "bf777d49-b432-4829-977a-fbca866ec947"
      },
      "execution_count": null,
      "outputs": [
        {
          "output_type": "stream",
          "name": "stdout",
          "text": [
            "+----------+------+-------------+-------+----------+------+------------+-------------+---------------+--------------+------------+----------------+-----------+-----------+---------------+--------+----------------+-------------+--------------+------------+-----+\n",
            "|customerID|gender|SeniorCitizen|Partner|Dependents|tenure|PhoneService|MultipleLines|InternetService|OnlineSecurity|OnlineBackup|DeviceProtection|TechSupport|StreamingTV|StreamingMovies|Contract|PaperlessBilling|PaymentMethod|MonthlyCharges|TotalCharges|Churn|\n",
            "+----------+------+-------------+-------+----------+------+------------+-------------+---------------+--------------+------------+----------------+-----------+-----------+---------------+--------+----------------+-------------+--------------+------------+-----+\n",
            "|         0|     0|            0|      0|         0|     0|           0|            0|              0|             0|           0|               0|          0|          0|              0|       0|               0|            0|             0|           0|    0|\n",
            "+----------+------+-------------+-------+----------+------+------------+-------------+---------------+--------------+------------+----------------+-----------+-----------+---------------+--------+----------------+-------------+--------------+------------+-----+\n",
            "\n"
          ]
        }
      ]
    },
    {
      "cell_type": "code",
      "source": [
        "df = df.drop('customerID','PaymentMethod','TotalCharges')\n",
        "df.show()"
      ],
      "metadata": {
        "colab": {
          "base_uri": "https://localhost:8080/"
        },
        "id": "Efp1apkfgQpS",
        "outputId": "986e2342-3611-4e0b-c98d-eadc95e91bd6"
      },
      "execution_count": null,
      "outputs": [
        {
          "output_type": "stream",
          "name": "stdout",
          "text": [
            "+------+-------------+-------+----------+------+------------+----------------+---------------+-------------------+-------------------+-------------------+-------------------+-------------------+-------------------+--------------+----------------+--------------+-----+\n",
            "|gender|SeniorCitizen|Partner|Dependents|tenure|PhoneService|   MultipleLines|InternetService|     OnlineSecurity|       OnlineBackup|   DeviceProtection|        TechSupport|        StreamingTV|    StreamingMovies|      Contract|PaperlessBilling|MonthlyCharges|Churn|\n",
            "+------+-------------+-------+----------+------+------------+----------------+---------------+-------------------+-------------------+-------------------+-------------------+-------------------+-------------------+--------------+----------------+--------------+-----+\n",
            "|Female|            0|    Yes|        No|     1|          No|No phone service|            DSL|                 No|                Yes|                 No|                 No|                 No|                 No|Month-to-month|             Yes|         29.85|   No|\n",
            "|  Male|            0|     No|        No|    34|         Yes|              No|            DSL|                Yes|                 No|                Yes|                 No|                 No|                 No|      One year|              No|         56.95|   No|\n",
            "|  Male|            0|     No|        No|     2|         Yes|              No|            DSL|                Yes|                Yes|                 No|                 No|                 No|                 No|Month-to-month|             Yes|         53.85|  Yes|\n",
            "|  Male|            0|     No|        No|    45|          No|No phone service|            DSL|                Yes|                 No|                Yes|                Yes|                 No|                 No|      One year|              No|          42.3|   No|\n",
            "|Female|            0|     No|        No|     2|         Yes|              No|    Fiber optic|                 No|                 No|                 No|                 No|                 No|                 No|Month-to-month|             Yes|          70.7|  Yes|\n",
            "|Female|            0|     No|        No|     8|         Yes|             Yes|    Fiber optic|                 No|                 No|                Yes|                 No|                Yes|                Yes|Month-to-month|             Yes|         99.65|  Yes|\n",
            "|  Male|            0|     No|       Yes|    22|         Yes|             Yes|    Fiber optic|                 No|                Yes|                 No|                 No|                Yes|                 No|Month-to-month|             Yes|          89.1|   No|\n",
            "|Female|            0|     No|        No|    10|          No|No phone service|            DSL|                Yes|                 No|                 No|                 No|                 No|                 No|Month-to-month|              No|         29.75|   No|\n",
            "|Female|            0|    Yes|        No|    28|         Yes|             Yes|    Fiber optic|                 No|                 No|                Yes|                Yes|                Yes|                Yes|Month-to-month|             Yes|         104.8|  Yes|\n",
            "|  Male|            0|     No|       Yes|    62|         Yes|              No|            DSL|                Yes|                Yes|                 No|                 No|                 No|                 No|      One year|              No|         56.15|   No|\n",
            "|  Male|            0|    Yes|       Yes|    13|         Yes|              No|            DSL|                Yes|                 No|                 No|                 No|                 No|                 No|Month-to-month|             Yes|         49.95|   No|\n",
            "|  Male|            0|     No|        No|    16|         Yes|              No|             No|No internet service|No internet service|No internet service|No internet service|No internet service|No internet service|      Two year|              No|         18.95|   No|\n",
            "|  Male|            0|    Yes|        No|    58|         Yes|             Yes|    Fiber optic|                 No|                 No|                Yes|                 No|                Yes|                Yes|      One year|              No|        100.35|   No|\n",
            "|  Male|            0|     No|        No|    49|         Yes|             Yes|    Fiber optic|                 No|                Yes|                Yes|                 No|                Yes|                Yes|Month-to-month|             Yes|         103.7|  Yes|\n",
            "|  Male|            0|     No|        No|    25|         Yes|              No|    Fiber optic|                Yes|                 No|                Yes|                Yes|                Yes|                Yes|Month-to-month|             Yes|         105.5|   No|\n",
            "|Female|            0|    Yes|       Yes|    69|         Yes|             Yes|    Fiber optic|                Yes|                Yes|                Yes|                Yes|                Yes|                Yes|      Two year|              No|        113.25|   No|\n",
            "|Female|            0|     No|        No|    52|         Yes|              No|             No|No internet service|No internet service|No internet service|No internet service|No internet service|No internet service|      One year|              No|         20.65|   No|\n",
            "|  Male|            0|     No|       Yes|    71|         Yes|             Yes|    Fiber optic|                Yes|                 No|                Yes|                 No|                Yes|                Yes|      Two year|              No|         106.7|   No|\n",
            "|Female|            0|    Yes|       Yes|    10|         Yes|              No|            DSL|                 No|                 No|                Yes|                Yes|                 No|                 No|Month-to-month|              No|          55.2|  Yes|\n",
            "|Female|            0|     No|        No|    21|         Yes|              No|    Fiber optic|                 No|                Yes|                Yes|                 No|                 No|                Yes|Month-to-month|             Yes|         90.05|   No|\n",
            "+------+-------------+-------+----------+------+------------+----------------+---------------+-------------------+-------------------+-------------------+-------------------+-------------------+-------------------+--------------+----------------+--------------+-----+\n",
            "only showing top 20 rows\n",
            "\n"
          ]
        }
      ]
    },
    {
      "cell_type": "code",
      "source": [
        "from pyspark.ml.feature import StringIndexer,OneHotEncoder,VectorAssembler,MinMaxScaler\n",
        "from pyspark.ml import Pipeline\n",
        "\n",
        "stages = []\n",
        "numerical_columns = ['SeniorCitizen','tenure','MonthlyCharges']\n",
        "categorical_columns= ['gender','Partner','Dependents','PhoneService','MultipleLines','InternetService','OnlineSecurity','OnlineBackup','DeviceProtection','TechSupport','StreamingTV','StreamingMovies','Contract','PaperlessBilling']\n",
        "\n",
        "for categoricalCol in categorical_columns:\n",
        "    stringIndexer = StringIndexer(inputCol = categoricalCol, outputCol = categoricalCol + ' Index')\n",
        "    encoder = OneHotEncoder(inputCols=[stringIndexer.getOutputCol()], outputCols=[categoricalCol + \" OHE\"])\n",
        "    stages += [stringIndexer, encoder]\n",
        "\n",
        "label_string_idx = StringIndexer(inputCol = 'Churn', outputCol = 'label')\n",
        "stages.append(label_string_idx)\n",
        "\n",
        "assemblerInputs = [c + \" OHE\" for c in categorical_columns] + numerical_columns\n",
        "assembler = VectorAssembler(inputCols=assemblerInputs, outputCol=\"features_vec\")\n",
        "stages.append(assembler)\n",
        "print(f\"Number of stages: {len(stages)}\")\n",
        "\n",
        "scalers = MinMaxScaler(inputCol=\"features_vec\", outputCol=\"features\")\n",
        "stages.append(scalers)\n",
        "\n",
        "pipeline = Pipeline(stages = stages)\n",
        "pipelineModel = pipeline.fit(df)\n",
        "preprocessed_df = pipelineModel.transform(df)\n",
        "preprocessed_df.head()"
      ],
      "metadata": {
        "colab": {
          "base_uri": "https://localhost:8080/"
        },
        "id": "TnoFFejcfEjD",
        "outputId": "3b4af79a-0660-42e3-e398-41311cf98bad"
      },
      "execution_count": null,
      "outputs": [
        {
          "output_type": "stream",
          "name": "stdout",
          "text": [
            "Number of stages: 30\n"
          ]
        },
        {
          "output_type": "execute_result",
          "data": {
            "text/plain": [
              "Row(gender='Female', SeniorCitizen=0, Partner='Yes', Dependents='No', tenure=1, PhoneService='No', MultipleLines='No phone service', InternetService='DSL', OnlineSecurity='No', OnlineBackup='Yes', DeviceProtection='No', TechSupport='No', StreamingTV='No', StreamingMovies='No', Contract='Month-to-month', PaperlessBilling='Yes', MonthlyCharges=29.85, Churn='No', gender Index=1.0, gender OHE=SparseVector(1, {}), Partner Index=1.0, Partner OHE=SparseVector(1, {}), Dependents Index=0.0, Dependents OHE=SparseVector(1, {0: 1.0}), PhoneService Index=1.0, PhoneService OHE=SparseVector(1, {}), MultipleLines Index=2.0, MultipleLines OHE=SparseVector(2, {}), InternetService Index=1.0, InternetService OHE=SparseVector(2, {1: 1.0}), OnlineSecurity Index=0.0, OnlineSecurity OHE=SparseVector(2, {0: 1.0}), OnlineBackup Index=1.0, OnlineBackup OHE=SparseVector(2, {1: 1.0}), DeviceProtection Index=0.0, DeviceProtection OHE=SparseVector(2, {0: 1.0}), TechSupport Index=0.0, TechSupport OHE=SparseVector(2, {0: 1.0}), StreamingTV Index=0.0, StreamingTV OHE=SparseVector(2, {0: 1.0}), StreamingMovies Index=0.0, StreamingMovies OHE=SparseVector(2, {0: 1.0}), Contract Index=0.0, Contract OHE=SparseVector(2, {0: 1.0}), PaperlessBilling Index=0.0, PaperlessBilling OHE=SparseVector(1, {0: 1.0}), label=0.0, features_vec=SparseVector(26, {2: 1.0, 7: 1.0, 8: 1.0, 11: 1.0, 12: 1.0, 14: 1.0, 16: 1.0, 18: 1.0, 20: 1.0, 22: 1.0, 24: 1.0, 25: 29.85}), features=SparseVector(26, {2: 1.0, 7: 1.0, 8: 1.0, 11: 1.0, 12: 1.0, 14: 1.0, 16: 1.0, 18: 1.0, 20: 1.0, 22: 1.0, 24: 0.0139, 25: 0.1154}))"
            ]
          },
          "metadata": {},
          "execution_count": 29
        }
      ]
    },
    {
      "cell_type": "code",
      "source": [
        "pd.DataFrame(preprocessed_df.take(5), columns=preprocessed_df.columns).transpose()"
      ],
      "metadata": {
        "colab": {
          "base_uri": "https://localhost:8080/",
          "height": 1000
        },
        "id": "IkjjQH4lhRh-",
        "outputId": "a548db3a-2f33-45f3-9fd8-8843d0ccfb96"
      },
      "execution_count": null,
      "outputs": [
        {
          "output_type": "execute_result",
          "data": {
            "text/html": [
              "\n",
              "  <div id=\"df-5f714707-56f1-43b6-9f94-14e9e6806b9e\">\n",
              "    <div class=\"colab-df-container\">\n",
              "      <div>\n",
              "<style scoped>\n",
              "    .dataframe tbody tr th:only-of-type {\n",
              "        vertical-align: middle;\n",
              "    }\n",
              "\n",
              "    .dataframe tbody tr th {\n",
              "        vertical-align: top;\n",
              "    }\n",
              "\n",
              "    .dataframe thead th {\n",
              "        text-align: right;\n",
              "    }\n",
              "</style>\n",
              "<table border=\"1\" class=\"dataframe\">\n",
              "  <thead>\n",
              "    <tr style=\"text-align: right;\">\n",
              "      <th></th>\n",
              "      <th>0</th>\n",
              "      <th>1</th>\n",
              "      <th>2</th>\n",
              "      <th>3</th>\n",
              "      <th>4</th>\n",
              "    </tr>\n",
              "  </thead>\n",
              "  <tbody>\n",
              "    <tr>\n",
              "      <th>gender</th>\n",
              "      <td>Female</td>\n",
              "      <td>Male</td>\n",
              "      <td>Male</td>\n",
              "      <td>Male</td>\n",
              "      <td>Female</td>\n",
              "    </tr>\n",
              "    <tr>\n",
              "      <th>SeniorCitizen</th>\n",
              "      <td>0</td>\n",
              "      <td>0</td>\n",
              "      <td>0</td>\n",
              "      <td>0</td>\n",
              "      <td>0</td>\n",
              "    </tr>\n",
              "    <tr>\n",
              "      <th>Partner</th>\n",
              "      <td>Yes</td>\n",
              "      <td>No</td>\n",
              "      <td>No</td>\n",
              "      <td>No</td>\n",
              "      <td>No</td>\n",
              "    </tr>\n",
              "    <tr>\n",
              "      <th>Dependents</th>\n",
              "      <td>No</td>\n",
              "      <td>No</td>\n",
              "      <td>No</td>\n",
              "      <td>No</td>\n",
              "      <td>No</td>\n",
              "    </tr>\n",
              "    <tr>\n",
              "      <th>tenure</th>\n",
              "      <td>1</td>\n",
              "      <td>34</td>\n",
              "      <td>2</td>\n",
              "      <td>45</td>\n",
              "      <td>2</td>\n",
              "    </tr>\n",
              "    <tr>\n",
              "      <th>PhoneService</th>\n",
              "      <td>No</td>\n",
              "      <td>Yes</td>\n",
              "      <td>Yes</td>\n",
              "      <td>No</td>\n",
              "      <td>Yes</td>\n",
              "    </tr>\n",
              "    <tr>\n",
              "      <th>MultipleLines</th>\n",
              "      <td>No phone service</td>\n",
              "      <td>No</td>\n",
              "      <td>No</td>\n",
              "      <td>No phone service</td>\n",
              "      <td>No</td>\n",
              "    </tr>\n",
              "    <tr>\n",
              "      <th>InternetService</th>\n",
              "      <td>DSL</td>\n",
              "      <td>DSL</td>\n",
              "      <td>DSL</td>\n",
              "      <td>DSL</td>\n",
              "      <td>Fiber optic</td>\n",
              "    </tr>\n",
              "    <tr>\n",
              "      <th>OnlineSecurity</th>\n",
              "      <td>No</td>\n",
              "      <td>Yes</td>\n",
              "      <td>Yes</td>\n",
              "      <td>Yes</td>\n",
              "      <td>No</td>\n",
              "    </tr>\n",
              "    <tr>\n",
              "      <th>OnlineBackup</th>\n",
              "      <td>Yes</td>\n",
              "      <td>No</td>\n",
              "      <td>Yes</td>\n",
              "      <td>No</td>\n",
              "      <td>No</td>\n",
              "    </tr>\n",
              "    <tr>\n",
              "      <th>DeviceProtection</th>\n",
              "      <td>No</td>\n",
              "      <td>Yes</td>\n",
              "      <td>No</td>\n",
              "      <td>Yes</td>\n",
              "      <td>No</td>\n",
              "    </tr>\n",
              "    <tr>\n",
              "      <th>TechSupport</th>\n",
              "      <td>No</td>\n",
              "      <td>No</td>\n",
              "      <td>No</td>\n",
              "      <td>Yes</td>\n",
              "      <td>No</td>\n",
              "    </tr>\n",
              "    <tr>\n",
              "      <th>StreamingTV</th>\n",
              "      <td>No</td>\n",
              "      <td>No</td>\n",
              "      <td>No</td>\n",
              "      <td>No</td>\n",
              "      <td>No</td>\n",
              "    </tr>\n",
              "    <tr>\n",
              "      <th>StreamingMovies</th>\n",
              "      <td>No</td>\n",
              "      <td>No</td>\n",
              "      <td>No</td>\n",
              "      <td>No</td>\n",
              "      <td>No</td>\n",
              "    </tr>\n",
              "    <tr>\n",
              "      <th>Contract</th>\n",
              "      <td>Month-to-month</td>\n",
              "      <td>One year</td>\n",
              "      <td>Month-to-month</td>\n",
              "      <td>One year</td>\n",
              "      <td>Month-to-month</td>\n",
              "    </tr>\n",
              "    <tr>\n",
              "      <th>PaperlessBilling</th>\n",
              "      <td>Yes</td>\n",
              "      <td>No</td>\n",
              "      <td>Yes</td>\n",
              "      <td>No</td>\n",
              "      <td>Yes</td>\n",
              "    </tr>\n",
              "    <tr>\n",
              "      <th>MonthlyCharges</th>\n",
              "      <td>29.85</td>\n",
              "      <td>56.95</td>\n",
              "      <td>53.85</td>\n",
              "      <td>42.3</td>\n",
              "      <td>70.7</td>\n",
              "    </tr>\n",
              "    <tr>\n",
              "      <th>Churn</th>\n",
              "      <td>No</td>\n",
              "      <td>No</td>\n",
              "      <td>Yes</td>\n",
              "      <td>No</td>\n",
              "      <td>Yes</td>\n",
              "    </tr>\n",
              "    <tr>\n",
              "      <th>gender Index</th>\n",
              "      <td>1</td>\n",
              "      <td>0</td>\n",
              "      <td>0</td>\n",
              "      <td>0</td>\n",
              "      <td>1</td>\n",
              "    </tr>\n",
              "    <tr>\n",
              "      <th>gender OHE</th>\n",
              "      <td>(0.0)</td>\n",
              "      <td>(1.0)</td>\n",
              "      <td>(1.0)</td>\n",
              "      <td>(1.0)</td>\n",
              "      <td>(0.0)</td>\n",
              "    </tr>\n",
              "    <tr>\n",
              "      <th>Partner Index</th>\n",
              "      <td>1</td>\n",
              "      <td>0</td>\n",
              "      <td>0</td>\n",
              "      <td>0</td>\n",
              "      <td>0</td>\n",
              "    </tr>\n",
              "    <tr>\n",
              "      <th>Partner OHE</th>\n",
              "      <td>(0.0)</td>\n",
              "      <td>(1.0)</td>\n",
              "      <td>(1.0)</td>\n",
              "      <td>(1.0)</td>\n",
              "      <td>(1.0)</td>\n",
              "    </tr>\n",
              "    <tr>\n",
              "      <th>Dependents Index</th>\n",
              "      <td>0</td>\n",
              "      <td>0</td>\n",
              "      <td>0</td>\n",
              "      <td>0</td>\n",
              "      <td>0</td>\n",
              "    </tr>\n",
              "    <tr>\n",
              "      <th>Dependents OHE</th>\n",
              "      <td>(1.0)</td>\n",
              "      <td>(1.0)</td>\n",
              "      <td>(1.0)</td>\n",
              "      <td>(1.0)</td>\n",
              "      <td>(1.0)</td>\n",
              "    </tr>\n",
              "    <tr>\n",
              "      <th>PhoneService Index</th>\n",
              "      <td>1</td>\n",
              "      <td>0</td>\n",
              "      <td>0</td>\n",
              "      <td>1</td>\n",
              "      <td>0</td>\n",
              "    </tr>\n",
              "    <tr>\n",
              "      <th>PhoneService OHE</th>\n",
              "      <td>(0.0)</td>\n",
              "      <td>(1.0)</td>\n",
              "      <td>(1.0)</td>\n",
              "      <td>(0.0)</td>\n",
              "      <td>(1.0)</td>\n",
              "    </tr>\n",
              "    <tr>\n",
              "      <th>MultipleLines Index</th>\n",
              "      <td>2</td>\n",
              "      <td>0</td>\n",
              "      <td>0</td>\n",
              "      <td>2</td>\n",
              "      <td>0</td>\n",
              "    </tr>\n",
              "    <tr>\n",
              "      <th>MultipleLines OHE</th>\n",
              "      <td>(0.0, 0.0)</td>\n",
              "      <td>(1.0, 0.0)</td>\n",
              "      <td>(1.0, 0.0)</td>\n",
              "      <td>(0.0, 0.0)</td>\n",
              "      <td>(1.0, 0.0)</td>\n",
              "    </tr>\n",
              "    <tr>\n",
              "      <th>InternetService Index</th>\n",
              "      <td>1</td>\n",
              "      <td>1</td>\n",
              "      <td>1</td>\n",
              "      <td>1</td>\n",
              "      <td>0</td>\n",
              "    </tr>\n",
              "    <tr>\n",
              "      <th>InternetService OHE</th>\n",
              "      <td>(0.0, 1.0)</td>\n",
              "      <td>(0.0, 1.0)</td>\n",
              "      <td>(0.0, 1.0)</td>\n",
              "      <td>(0.0, 1.0)</td>\n",
              "      <td>(1.0, 0.0)</td>\n",
              "    </tr>\n",
              "    <tr>\n",
              "      <th>OnlineSecurity Index</th>\n",
              "      <td>0</td>\n",
              "      <td>1</td>\n",
              "      <td>1</td>\n",
              "      <td>1</td>\n",
              "      <td>0</td>\n",
              "    </tr>\n",
              "    <tr>\n",
              "      <th>OnlineSecurity OHE</th>\n",
              "      <td>(1.0, 0.0)</td>\n",
              "      <td>(0.0, 1.0)</td>\n",
              "      <td>(0.0, 1.0)</td>\n",
              "      <td>(0.0, 1.0)</td>\n",
              "      <td>(1.0, 0.0)</td>\n",
              "    </tr>\n",
              "    <tr>\n",
              "      <th>OnlineBackup Index</th>\n",
              "      <td>1</td>\n",
              "      <td>0</td>\n",
              "      <td>1</td>\n",
              "      <td>0</td>\n",
              "      <td>0</td>\n",
              "    </tr>\n",
              "    <tr>\n",
              "      <th>OnlineBackup OHE</th>\n",
              "      <td>(0.0, 1.0)</td>\n",
              "      <td>(1.0, 0.0)</td>\n",
              "      <td>(0.0, 1.0)</td>\n",
              "      <td>(1.0, 0.0)</td>\n",
              "      <td>(1.0, 0.0)</td>\n",
              "    </tr>\n",
              "    <tr>\n",
              "      <th>DeviceProtection Index</th>\n",
              "      <td>0</td>\n",
              "      <td>1</td>\n",
              "      <td>0</td>\n",
              "      <td>1</td>\n",
              "      <td>0</td>\n",
              "    </tr>\n",
              "    <tr>\n",
              "      <th>DeviceProtection OHE</th>\n",
              "      <td>(1.0, 0.0)</td>\n",
              "      <td>(0.0, 1.0)</td>\n",
              "      <td>(1.0, 0.0)</td>\n",
              "      <td>(0.0, 1.0)</td>\n",
              "      <td>(1.0, 0.0)</td>\n",
              "    </tr>\n",
              "    <tr>\n",
              "      <th>TechSupport Index</th>\n",
              "      <td>0</td>\n",
              "      <td>0</td>\n",
              "      <td>0</td>\n",
              "      <td>1</td>\n",
              "      <td>0</td>\n",
              "    </tr>\n",
              "    <tr>\n",
              "      <th>TechSupport OHE</th>\n",
              "      <td>(1.0, 0.0)</td>\n",
              "      <td>(1.0, 0.0)</td>\n",
              "      <td>(1.0, 0.0)</td>\n",
              "      <td>(0.0, 1.0)</td>\n",
              "      <td>(1.0, 0.0)</td>\n",
              "    </tr>\n",
              "    <tr>\n",
              "      <th>StreamingTV Index</th>\n",
              "      <td>0</td>\n",
              "      <td>0</td>\n",
              "      <td>0</td>\n",
              "      <td>0</td>\n",
              "      <td>0</td>\n",
              "    </tr>\n",
              "    <tr>\n",
              "      <th>StreamingTV OHE</th>\n",
              "      <td>(1.0, 0.0)</td>\n",
              "      <td>(1.0, 0.0)</td>\n",
              "      <td>(1.0, 0.0)</td>\n",
              "      <td>(1.0, 0.0)</td>\n",
              "      <td>(1.0, 0.0)</td>\n",
              "    </tr>\n",
              "    <tr>\n",
              "      <th>StreamingMovies Index</th>\n",
              "      <td>0</td>\n",
              "      <td>0</td>\n",
              "      <td>0</td>\n",
              "      <td>0</td>\n",
              "      <td>0</td>\n",
              "    </tr>\n",
              "    <tr>\n",
              "      <th>StreamingMovies OHE</th>\n",
              "      <td>(1.0, 0.0)</td>\n",
              "      <td>(1.0, 0.0)</td>\n",
              "      <td>(1.0, 0.0)</td>\n",
              "      <td>(1.0, 0.0)</td>\n",
              "      <td>(1.0, 0.0)</td>\n",
              "    </tr>\n",
              "    <tr>\n",
              "      <th>Contract Index</th>\n",
              "      <td>0</td>\n",
              "      <td>2</td>\n",
              "      <td>0</td>\n",
              "      <td>2</td>\n",
              "      <td>0</td>\n",
              "    </tr>\n",
              "    <tr>\n",
              "      <th>Contract OHE</th>\n",
              "      <td>(1.0, 0.0)</td>\n",
              "      <td>(0.0, 0.0)</td>\n",
              "      <td>(1.0, 0.0)</td>\n",
              "      <td>(0.0, 0.0)</td>\n",
              "      <td>(1.0, 0.0)</td>\n",
              "    </tr>\n",
              "    <tr>\n",
              "      <th>PaperlessBilling Index</th>\n",
              "      <td>0</td>\n",
              "      <td>1</td>\n",
              "      <td>0</td>\n",
              "      <td>1</td>\n",
              "      <td>0</td>\n",
              "    </tr>\n",
              "    <tr>\n",
              "      <th>PaperlessBilling OHE</th>\n",
              "      <td>(1.0)</td>\n",
              "      <td>(0.0)</td>\n",
              "      <td>(1.0)</td>\n",
              "      <td>(0.0)</td>\n",
              "      <td>(1.0)</td>\n",
              "    </tr>\n",
              "    <tr>\n",
              "      <th>label</th>\n",
              "      <td>0</td>\n",
              "      <td>0</td>\n",
              "      <td>1</td>\n",
              "      <td>0</td>\n",
              "      <td>1</td>\n",
              "    </tr>\n",
              "    <tr>\n",
              "      <th>features_vec</th>\n",
              "      <td>(0.0, 0.0, 1.0, 0.0, 0.0, 0.0, 0.0, 1.0, 1.0, ...</td>\n",
              "      <td>(1.0, 1.0, 1.0, 1.0, 1.0, 0.0, 0.0, 1.0, 0.0, ...</td>\n",
              "      <td>(1.0, 1.0, 1.0, 1.0, 1.0, 0.0, 0.0, 1.0, 0.0, ...</td>\n",
              "      <td>(1.0, 1.0, 1.0, 0.0, 0.0, 0.0, 0.0, 1.0, 0.0, ...</td>\n",
              "      <td>(0.0, 1.0, 1.0, 1.0, 1.0, 0.0, 1.0, 0.0, 1.0, ...</td>\n",
              "    </tr>\n",
              "    <tr>\n",
              "      <th>features</th>\n",
              "      <td>(0.0, 0.0, 1.0, 0.0, 0.0, 0.0, 0.0, 1.0, 1.0, ...</td>\n",
              "      <td>(1.0, 1.0, 1.0, 1.0, 1.0, 0.0, 0.0, 1.0, 0.0, ...</td>\n",
              "      <td>(1.0, 1.0, 1.0, 1.0, 1.0, 0.0, 0.0, 1.0, 0.0, ...</td>\n",
              "      <td>(1.0, 1.0, 1.0, 0.0, 0.0, 0.0, 0.0, 1.0, 0.0, ...</td>\n",
              "      <td>(0.0, 1.0, 1.0, 1.0, 1.0, 0.0, 1.0, 0.0, 1.0, ...</td>\n",
              "    </tr>\n",
              "  </tbody>\n",
              "</table>\n",
              "</div>\n",
              "      <button class=\"colab-df-convert\" onclick=\"convertToInteractive('df-5f714707-56f1-43b6-9f94-14e9e6806b9e')\"\n",
              "              title=\"Convert this dataframe to an interactive table.\"\n",
              "              style=\"display:none;\">\n",
              "        \n",
              "  <svg xmlns=\"http://www.w3.org/2000/svg\" height=\"24px\"viewBox=\"0 0 24 24\"\n",
              "       width=\"24px\">\n",
              "    <path d=\"M0 0h24v24H0V0z\" fill=\"none\"/>\n",
              "    <path d=\"M18.56 5.44l.94 2.06.94-2.06 2.06-.94-2.06-.94-.94-2.06-.94 2.06-2.06.94zm-11 1L8.5 8.5l.94-2.06 2.06-.94-2.06-.94L8.5 2.5l-.94 2.06-2.06.94zm10 10l.94 2.06.94-2.06 2.06-.94-2.06-.94-.94-2.06-.94 2.06-2.06.94z\"/><path d=\"M17.41 7.96l-1.37-1.37c-.4-.4-.92-.59-1.43-.59-.52 0-1.04.2-1.43.59L10.3 9.45l-7.72 7.72c-.78.78-.78 2.05 0 2.83L4 21.41c.39.39.9.59 1.41.59.51 0 1.02-.2 1.41-.59l7.78-7.78 2.81-2.81c.8-.78.8-2.07 0-2.86zM5.41 20L4 18.59l7.72-7.72 1.47 1.35L5.41 20z\"/>\n",
              "  </svg>\n",
              "      </button>\n",
              "      \n",
              "  <style>\n",
              "    .colab-df-container {\n",
              "      display:flex;\n",
              "      flex-wrap:wrap;\n",
              "      gap: 12px;\n",
              "    }\n",
              "\n",
              "    .colab-df-convert {\n",
              "      background-color: #E8F0FE;\n",
              "      border: none;\n",
              "      border-radius: 50%;\n",
              "      cursor: pointer;\n",
              "      display: none;\n",
              "      fill: #1967D2;\n",
              "      height: 32px;\n",
              "      padding: 0 0 0 0;\n",
              "      width: 32px;\n",
              "    }\n",
              "\n",
              "    .colab-df-convert:hover {\n",
              "      background-color: #E2EBFA;\n",
              "      box-shadow: 0px 1px 2px rgba(60, 64, 67, 0.3), 0px 1px 3px 1px rgba(60, 64, 67, 0.15);\n",
              "      fill: #174EA6;\n",
              "    }\n",
              "\n",
              "    [theme=dark] .colab-df-convert {\n",
              "      background-color: #3B4455;\n",
              "      fill: #D2E3FC;\n",
              "    }\n",
              "\n",
              "    [theme=dark] .colab-df-convert:hover {\n",
              "      background-color: #434B5C;\n",
              "      box-shadow: 0px 1px 3px 1px rgba(0, 0, 0, 0.15);\n",
              "      filter: drop-shadow(0px 1px 2px rgba(0, 0, 0, 0.3));\n",
              "      fill: #FFFFFF;\n",
              "    }\n",
              "  </style>\n",
              "\n",
              "      <script>\n",
              "        const buttonEl =\n",
              "          document.querySelector('#df-5f714707-56f1-43b6-9f94-14e9e6806b9e button.colab-df-convert');\n",
              "        buttonEl.style.display =\n",
              "          google.colab.kernel.accessAllowed ? 'block' : 'none';\n",
              "\n",
              "        async function convertToInteractive(key) {\n",
              "          const element = document.querySelector('#df-5f714707-56f1-43b6-9f94-14e9e6806b9e');\n",
              "          const dataTable =\n",
              "            await google.colab.kernel.invokeFunction('convertToInteractive',\n",
              "                                                     [key], {});\n",
              "          if (!dataTable) return;\n",
              "\n",
              "          const docLinkHtml = 'Like what you see? Visit the ' +\n",
              "            '<a target=\"_blank\" href=https://colab.research.google.com/notebooks/data_table.ipynb>data table notebook</a>'\n",
              "            + ' to learn more about interactive tables.';\n",
              "          element.innerHTML = '';\n",
              "          dataTable['output_type'] = 'display_data';\n",
              "          await google.colab.output.renderOutput(dataTable, element);\n",
              "          const docLink = document.createElement('div');\n",
              "          docLink.innerHTML = docLinkHtml;\n",
              "          element.appendChild(docLink);\n",
              "        }\n",
              "      </script>\n",
              "    </div>\n",
              "  </div>\n",
              "  "
            ],
            "text/plain": [
              "                                                                        0  ...                                                  4\n",
              "gender                                                             Female  ...                                             Female\n",
              "SeniorCitizen                                                           0  ...                                                  0\n",
              "Partner                                                               Yes  ...                                                 No\n",
              "Dependents                                                             No  ...                                                 No\n",
              "tenure                                                                  1  ...                                                  2\n",
              "PhoneService                                                           No  ...                                                Yes\n",
              "MultipleLines                                            No phone service  ...                                                 No\n",
              "InternetService                                                       DSL  ...                                        Fiber optic\n",
              "OnlineSecurity                                                         No  ...                                                 No\n",
              "OnlineBackup                                                          Yes  ...                                                 No\n",
              "DeviceProtection                                                       No  ...                                                 No\n",
              "TechSupport                                                            No  ...                                                 No\n",
              "StreamingTV                                                            No  ...                                                 No\n",
              "StreamingMovies                                                        No  ...                                                 No\n",
              "Contract                                                   Month-to-month  ...                                     Month-to-month\n",
              "PaperlessBilling                                                      Yes  ...                                                Yes\n",
              "MonthlyCharges                                                      29.85  ...                                               70.7\n",
              "Churn                                                                  No  ...                                                Yes\n",
              "gender Index                                                            1  ...                                                  1\n",
              "gender OHE                                                          (0.0)  ...                                              (0.0)\n",
              "Partner Index                                                           1  ...                                                  0\n",
              "Partner OHE                                                         (0.0)  ...                                              (1.0)\n",
              "Dependents Index                                                        0  ...                                                  0\n",
              "Dependents OHE                                                      (1.0)  ...                                              (1.0)\n",
              "PhoneService Index                                                      1  ...                                                  0\n",
              "PhoneService OHE                                                    (0.0)  ...                                              (1.0)\n",
              "MultipleLines Index                                                     2  ...                                                  0\n",
              "MultipleLines OHE                                              (0.0, 0.0)  ...                                         (1.0, 0.0)\n",
              "InternetService Index                                                   1  ...                                                  0\n",
              "InternetService OHE                                            (0.0, 1.0)  ...                                         (1.0, 0.0)\n",
              "OnlineSecurity Index                                                    0  ...                                                  0\n",
              "OnlineSecurity OHE                                             (1.0, 0.0)  ...                                         (1.0, 0.0)\n",
              "OnlineBackup Index                                                      1  ...                                                  0\n",
              "OnlineBackup OHE                                               (0.0, 1.0)  ...                                         (1.0, 0.0)\n",
              "DeviceProtection Index                                                  0  ...                                                  0\n",
              "DeviceProtection OHE                                           (1.0, 0.0)  ...                                         (1.0, 0.0)\n",
              "TechSupport Index                                                       0  ...                                                  0\n",
              "TechSupport OHE                                                (1.0, 0.0)  ...                                         (1.0, 0.0)\n",
              "StreamingTV Index                                                       0  ...                                                  0\n",
              "StreamingTV OHE                                                (1.0, 0.0)  ...                                         (1.0, 0.0)\n",
              "StreamingMovies Index                                                   0  ...                                                  0\n",
              "StreamingMovies OHE                                            (1.0, 0.0)  ...                                         (1.0, 0.0)\n",
              "Contract Index                                                          0  ...                                                  0\n",
              "Contract OHE                                                   (1.0, 0.0)  ...                                         (1.0, 0.0)\n",
              "PaperlessBilling Index                                                  0  ...                                                  0\n",
              "PaperlessBilling OHE                                                (1.0)  ...                                              (1.0)\n",
              "label                                                                   0  ...                                                  1\n",
              "features_vec            (0.0, 0.0, 1.0, 0.0, 0.0, 0.0, 0.0, 1.0, 1.0, ...  ...  (0.0, 1.0, 1.0, 1.0, 1.0, 0.0, 1.0, 0.0, 1.0, ...\n",
              "features                (0.0, 0.0, 1.0, 0.0, 0.0, 0.0, 0.0, 1.0, 1.0, ...  ...  (0.0, 1.0, 1.0, 1.0, 1.0, 0.0, 1.0, 0.0, 1.0, ...\n",
              "\n",
              "[49 rows x 5 columns]"
            ]
          },
          "metadata": {},
          "execution_count": 30
        }
      ]
    },
    {
      "cell_type": "code",
      "source": [
        "train, test = preprocessed_df.randomSplit([0.7, 0.3], seed = 2018)\n",
        "print(\"Training Dataset Count: \" + str(train.count()))\n",
        "print(\"Test Dataset Count: \" + str(test.count()))"
      ],
      "metadata": {
        "colab": {
          "base_uri": "https://localhost:8080/"
        },
        "id": "dGkH1GPAh60m",
        "outputId": "e75f8cd0-767e-4cc7-9c90-1b8a7e4786d1"
      },
      "execution_count": null,
      "outputs": [
        {
          "output_type": "stream",
          "name": "stdout",
          "text": [
            "Training Dataset Count: 4962\n",
            "Test Dataset Count: 2081\n"
          ]
        }
      ]
    },
    {
      "cell_type": "code",
      "source": [
        "from pyspark.ml.classification import RandomForestClassifier\n",
        "rf = RandomForestClassifier(labelCol=\"label\", featuresCol=\"features\", numTrees=50)\n",
        "rfModel = rf.fit(train)"
      ],
      "metadata": {
        "id": "Mx68aeiEiO2N"
      },
      "execution_count": null,
      "outputs": []
    },
    {
      "cell_type": "code",
      "source": [
        "predictions = rfModel.transform(test)\n",
        "predictions.select(['label', 'features', 'rawPrediction', 'probability', 'prediction']).show(10)"
      ],
      "metadata": {
        "colab": {
          "base_uri": "https://localhost:8080/"
        },
        "id": "Q8aGMfkEjbfV",
        "outputId": "6ba5f70f-09e1-48b1-f346-4ac87c5d1131"
      },
      "execution_count": null,
      "outputs": [
        {
          "output_type": "stream",
          "name": "stdout",
          "text": [
            "+-----+--------------------+--------------------+--------------------+----------+\n",
            "|label|            features|       rawPrediction|         probability|prediction|\n",
            "+-----+--------------------+--------------------+--------------------+----------+\n",
            "|  1.0|(26,[1,2,7,8,10,1...|[27.1364641254533...|[0.54272928250906...|       0.0|\n",
            "|  1.0|(26,[1,2,3,4,7,8,...|[27.3451466211004...|[0.54690293242200...|       0.0|\n",
            "|  1.0|(26,[1,2,3,4,7,8,...|[27.3451466211004...|[0.54690293242200...|       0.0|\n",
            "|  1.0|(26,[1,2,3,4,7,8,...|[26.4177234037097...|[0.52835446807419...|       0.0|\n",
            "|  0.0|(26,[1,2,3,4,7,8,...|[30.8222844760014...|[0.61644568952002...|       0.0|\n",
            "|  0.0|(26,[1,2,3,4,7,8,...|[28.9175326436554...|[0.57835065287310...|       0.0|\n",
            "|  0.0|(26,[1,2,3,4,6,8,...|[17.6927526400959...|[0.35385505280191...|       1.0|\n",
            "|  1.0|(26,[1,2,3,4,6,8,...|[19.8818847541387...|[0.39763769508277...|       1.0|\n",
            "|  1.0|(26,[1,2,3,4,6,8,...|[17.7078048742464...|[0.35415609748492...|       1.0|\n",
            "|  1.0|(26,[1,2,3,4,6,8,...|[17.7078048742464...|[0.35415609748492...|       1.0|\n",
            "+-----+--------------------+--------------------+--------------------+----------+\n",
            "only showing top 10 rows\n",
            "\n"
          ]
        }
      ]
    },
    {
      "cell_type": "code",
      "source": [
        "from sklearn.metrics import confusion_matrix\n",
        "from sklearn.metrics import accuracy_score, precision_score, recall_score, f1_score\n",
        "from pyspark.ml.evaluation import BinaryClassificationEvaluator\n",
        "import seaborn as sns\n",
        "actual = predictions.select('label').toPandas()\n",
        "predicted = predictions.select('prediction').toPandas()\n",
        "\n",
        "print('Accuracy score of predicted data :',accuracy_score(actual, predicted))\n",
        "\n",
        "# precision score\n",
        "print('Precision Score of predicted data :',precision_score(actual, predicted))\n",
        "\n",
        "# recall score\n",
        "print('Recall Score of predicted data :',recall_score(actual, predicted))\n",
        "\n",
        "# F1 score\n",
        "print('F1 Score of predicted data :',f1_score(actual, predicted))\n",
        "\n",
        "cf_matrix = confusion_matrix(actual, predicted)\n",
        "sns.heatmap(cf_matrix, annot=True, fmt=\"d\")\n",
        "plt.ylabel('True label')\n",
        "plt.xlabel('Predicted label')"
      ],
      "metadata": {
        "colab": {
          "base_uri": "https://localhost:8080/",
          "height": 371
        },
        "id": "9deeJQ1qjeCe",
        "outputId": "c5dc2441-53c6-4cb4-8e83-374a2602a588"
      },
      "execution_count": null,
      "outputs": [
        {
          "output_type": "stream",
          "name": "stdout",
          "text": [
            "Accuracy score of predicted data : 0.7803940413262854\n",
            "Precision Score of predicted data : 0.6891385767790262\n",
            "Recall Score of predicted data : 0.32974910394265233\n",
            "F1 Score of predicted data : 0.4460606060606061\n"
          ]
        },
        {
          "output_type": "execute_result",
          "data": {
            "text/plain": [
              "Text(0.5, 15.0, 'Predicted label')"
            ]
          },
          "metadata": {},
          "execution_count": 36
        },
        {
          "output_type": "display_data",
          "data": {
            "image/png": "[encoded data removed]",
            "text/plain": [
              "<Figure size 432x288 with 2 Axes>"
            ]
          },
          "metadata": {
            "needs_background": "light"
          }
        }
      ]
    },
    {
      "cell_type": "code",
      "source": [
        "preprocessed_df.toPandas().to_csv('telco_churn.csv')"
      ],
      "metadata": {
        "id": "2M-xC2AejkX2"
      },
      "execution_count": null,
      "outputs": []
    },
    {
      "cell_type": "code",
      "source": [
        "!cp telco_churn.csv \"/content/gdrive/MyDrive/WIH3003 Big Data/BDA Case Study/\""
      ],
      "metadata": {
        "id": "-254y68jlzmd"
      },
      "execution_count": null,
      "outputs": []
    },
    {
      "cell_type": "code",
      "source": [
        "preprocessed_df.show()"
      ],
      "metadata": {
        "colab": {
          "base_uri": "https://localhost:8080/"
        },
        "id": "vY7PhYnemX1A",
        "outputId": "cc16cb99-9ff6-4391-c598-672730c675d2"
      },
      "execution_count": null,
      "outputs": [
        {
          "output_type": "stream",
          "name": "stdout",
          "text": [
            "+------+-------------+-------+----------+------+------------+----------------+---------------+-------------------+-------------------+-------------------+-------------------+-------------------+-------------------+--------------+----------------+--------------+-----+------------+-------------+-------------+-------------+----------------+--------------+------------------+----------------+-------------------+-----------------+---------------------+-------------------+--------------------+------------------+------------------+----------------+----------------------+--------------------+-----------------+---------------+-----------------+---------------+---------------------+-------------------+--------------+-------------+----------------------+--------------------+-----+--------------------+--------------------+\n",
            "|gender|SeniorCitizen|Partner|Dependents|tenure|PhoneService|   MultipleLines|InternetService|     OnlineSecurity|       OnlineBackup|   DeviceProtection|        TechSupport|        StreamingTV|    StreamingMovies|      Contract|PaperlessBilling|MonthlyCharges|Churn|gender Index|   gender OHE|Partner Index|  Partner OHE|Dependents Index|Dependents OHE|PhoneService Index|PhoneService OHE|MultipleLines Index|MultipleLines OHE|InternetService Index|InternetService OHE|OnlineSecurity Index|OnlineSecurity OHE|OnlineBackup Index|OnlineBackup OHE|DeviceProtection Index|DeviceProtection OHE|TechSupport Index|TechSupport OHE|StreamingTV Index|StreamingTV OHE|StreamingMovies Index|StreamingMovies OHE|Contract Index| Contract OHE|PaperlessBilling Index|PaperlessBilling OHE|label|        features_vec|            features|\n",
            "+------+-------------+-------+----------+------+------------+----------------+---------------+-------------------+-------------------+-------------------+-------------------+-------------------+-------------------+--------------+----------------+--------------+-----+------------+-------------+-------------+-------------+----------------+--------------+------------------+----------------+-------------------+-----------------+---------------------+-------------------+--------------------+------------------+------------------+----------------+----------------------+--------------------+-----------------+---------------+-----------------+---------------+---------------------+-------------------+--------------+-------------+----------------------+--------------------+-----+--------------------+--------------------+\n",
            "|Female|            0|    Yes|        No|     1|          No|No phone service|            DSL|                 No|                Yes|                 No|                 No|                 No|                 No|Month-to-month|             Yes|         29.85|   No|         1.0|    (1,[],[])|          1.0|    (1,[],[])|             0.0| (1,[0],[1.0])|               1.0|       (1,[],[])|                2.0|        (2,[],[])|                  1.0|      (2,[1],[1.0])|                 0.0|     (2,[0],[1.0])|               1.0|   (2,[1],[1.0])|                   0.0|       (2,[0],[1.0])|              0.0|  (2,[0],[1.0])|              0.0|  (2,[0],[1.0])|                  0.0|      (2,[0],[1.0])|           0.0|(2,[0],[1.0])|                   0.0|       (1,[0],[1.0])|  0.0|(26,[2,7,8,11,12,...|(26,[2,7,8,11,12,...|\n",
            "|  Male|            0|     No|        No|    34|         Yes|              No|            DSL|                Yes|                 No|                Yes|                 No|                 No|                 No|      One year|              No|         56.95|   No|         0.0|(1,[0],[1.0])|          0.0|(1,[0],[1.0])|             0.0| (1,[0],[1.0])|               0.0|   (1,[0],[1.0])|                0.0|    (2,[0],[1.0])|                  1.0|      (2,[1],[1.0])|                 1.0|     (2,[1],[1.0])|               0.0|   (2,[0],[1.0])|                   1.0|       (2,[1],[1.0])|              0.0|  (2,[0],[1.0])|              0.0|  (2,[0],[1.0])|                  0.0|      (2,[0],[1.0])|           2.0|    (2,[],[])|                   1.0|           (1,[],[])|  0.0|(26,[0,1,2,3,4,7,...|(26,[0,1,2,3,4,7,...|\n",
            "|  Male|            0|     No|        No|     2|         Yes|              No|            DSL|                Yes|                Yes|                 No|                 No|                 No|                 No|Month-to-month|             Yes|         53.85|  Yes|         0.0|(1,[0],[1.0])|          0.0|(1,[0],[1.0])|             0.0| (1,[0],[1.0])|               0.0|   (1,[0],[1.0])|                0.0|    (2,[0],[1.0])|                  1.0|      (2,[1],[1.0])|                 1.0|     (2,[1],[1.0])|               1.0|   (2,[1],[1.0])|                   0.0|       (2,[0],[1.0])|              0.0|  (2,[0],[1.0])|              0.0|  (2,[0],[1.0])|                  0.0|      (2,[0],[1.0])|           0.0|(2,[0],[1.0])|                   0.0|       (1,[0],[1.0])|  1.0|(26,[0,1,2,3,4,7,...|(26,[0,1,2,3,4,7,...|\n",
            "|  Male|            0|     No|        No|    45|          No|No phone service|            DSL|                Yes|                 No|                Yes|                Yes|                 No|                 No|      One year|              No|          42.3|   No|         0.0|(1,[0],[1.0])|          0.0|(1,[0],[1.0])|             0.0| (1,[0],[1.0])|               1.0|       (1,[],[])|                2.0|        (2,[],[])|                  1.0|      (2,[1],[1.0])|                 1.0|     (2,[1],[1.0])|               0.0|   (2,[0],[1.0])|                   1.0|       (2,[1],[1.0])|              1.0|  (2,[1],[1.0])|              0.0|  (2,[0],[1.0])|                  0.0|      (2,[0],[1.0])|           2.0|    (2,[],[])|                   1.0|           (1,[],[])|  0.0|(26,[0,1,2,7,9,10...|(26,[0,1,2,7,9,10...|\n",
            "|Female|            0|     No|        No|     2|         Yes|              No|    Fiber optic|                 No|                 No|                 No|                 No|                 No|                 No|Month-to-month|             Yes|          70.7|  Yes|         1.0|    (1,[],[])|          0.0|(1,[0],[1.0])|             0.0| (1,[0],[1.0])|               0.0|   (1,[0],[1.0])|                0.0|    (2,[0],[1.0])|                  0.0|      (2,[0],[1.0])|                 0.0|     (2,[0],[1.0])|               0.0|   (2,[0],[1.0])|                   0.0|       (2,[0],[1.0])|              0.0|  (2,[0],[1.0])|              0.0|  (2,[0],[1.0])|                  0.0|      (2,[0],[1.0])|           0.0|(2,[0],[1.0])|                   0.0|       (1,[0],[1.0])|  1.0|(26,[1,2,3,4,6,8,...|(26,[1,2,3,4,6,8,...|\n",
            "|Female|            0|     No|        No|     8|         Yes|             Yes|    Fiber optic|                 No|                 No|                Yes|                 No|                Yes|                Yes|Month-to-month|             Yes|         99.65|  Yes|         1.0|    (1,[],[])|          0.0|(1,[0],[1.0])|             0.0| (1,[0],[1.0])|               0.0|   (1,[0],[1.0])|                1.0|    (2,[1],[1.0])|                  0.0|      (2,[0],[1.0])|                 0.0|     (2,[0],[1.0])|               0.0|   (2,[0],[1.0])|                   1.0|       (2,[1],[1.0])|              0.0|  (2,[0],[1.0])|              1.0|  (2,[1],[1.0])|                  1.0|      (2,[1],[1.0])|           0.0|(2,[0],[1.0])|                   0.0|       (1,[0],[1.0])|  1.0|(26,[1,2,3,5,6,8,...|(26,[1,2,3,5,6,8,...|\n",
            "|  Male|            0|     No|       Yes|    22|         Yes|             Yes|    Fiber optic|                 No|                Yes|                 No|                 No|                Yes|                 No|Month-to-month|             Yes|          89.1|   No|         0.0|(1,[0],[1.0])|          0.0|(1,[0],[1.0])|             1.0|     (1,[],[])|               0.0|   (1,[0],[1.0])|                1.0|    (2,[1],[1.0])|                  0.0|      (2,[0],[1.0])|                 0.0|     (2,[0],[1.0])|               1.0|   (2,[1],[1.0])|                   0.0|       (2,[0],[1.0])|              0.0|  (2,[0],[1.0])|              1.0|  (2,[1],[1.0])|                  0.0|      (2,[0],[1.0])|           0.0|(2,[0],[1.0])|                   0.0|       (1,[0],[1.0])|  0.0|(26,[0,1,3,5,6,8,...|(26,[0,1,3,5,6,8,...|\n",
            "|Female|            0|     No|        No|    10|          No|No phone service|            DSL|                Yes|                 No|                 No|                 No|                 No|                 No|Month-to-month|              No|         29.75|   No|         1.0|    (1,[],[])|          0.0|(1,[0],[1.0])|             0.0| (1,[0],[1.0])|               1.0|       (1,[],[])|                2.0|        (2,[],[])|                  1.0|      (2,[1],[1.0])|                 1.0|     (2,[1],[1.0])|               0.0|   (2,[0],[1.0])|                   0.0|       (2,[0],[1.0])|              0.0|  (2,[0],[1.0])|              0.0|  (2,[0],[1.0])|                  0.0|      (2,[0],[1.0])|           0.0|(2,[0],[1.0])|                   1.0|           (1,[],[])|  0.0|(26,[1,2,7,9,10,1...|(26,[1,2,7,9,10,1...|\n",
            "|Female|            0|    Yes|        No|    28|         Yes|             Yes|    Fiber optic|                 No|                 No|                Yes|                Yes|                Yes|                Yes|Month-to-month|             Yes|         104.8|  Yes|         1.0|    (1,[],[])|          1.0|    (1,[],[])|             0.0| (1,[0],[1.0])|               0.0|   (1,[0],[1.0])|                1.0|    (2,[1],[1.0])|                  0.0|      (2,[0],[1.0])|                 0.0|     (2,[0],[1.0])|               0.0|   (2,[0],[1.0])|                   1.0|       (2,[1],[1.0])|              1.0|  (2,[1],[1.0])|              1.0|  (2,[1],[1.0])|                  1.0|      (2,[1],[1.0])|           0.0|(2,[0],[1.0])|                   0.0|       (1,[0],[1.0])|  1.0|(26,[2,3,5,6,8,10...|(26,[2,3,5,6,8,10...|\n",
            "|  Male|            0|     No|       Yes|    62|         Yes|              No|            DSL|                Yes|                Yes|                 No|                 No|                 No|                 No|      One year|              No|         56.15|   No|         0.0|(1,[0],[1.0])|          0.0|(1,[0],[1.0])|             1.0|     (1,[],[])|               0.0|   (1,[0],[1.0])|                0.0|    (2,[0],[1.0])|                  1.0|      (2,[1],[1.0])|                 1.0|     (2,[1],[1.0])|               1.0|   (2,[1],[1.0])|                   0.0|       (2,[0],[1.0])|              0.0|  (2,[0],[1.0])|              0.0|  (2,[0],[1.0])|                  0.0|      (2,[0],[1.0])|           2.0|    (2,[],[])|                   1.0|           (1,[],[])|  0.0|(26,[0,1,3,4,7,9,...|(26,[0,1,3,4,7,9,...|\n",
            "|  Male|            0|    Yes|       Yes|    13|         Yes|              No|            DSL|                Yes|                 No|                 No|                 No|                 No|                 No|Month-to-month|             Yes|         49.95|   No|         0.0|(1,[0],[1.0])|          1.0|    (1,[],[])|             1.0|     (1,[],[])|               0.0|   (1,[0],[1.0])|                0.0|    (2,[0],[1.0])|                  1.0|      (2,[1],[1.0])|                 1.0|     (2,[1],[1.0])|               0.0|   (2,[0],[1.0])|                   0.0|       (2,[0],[1.0])|              0.0|  (2,[0],[1.0])|              0.0|  (2,[0],[1.0])|                  0.0|      (2,[0],[1.0])|           0.0|(2,[0],[1.0])|                   0.0|       (1,[0],[1.0])|  0.0|(26,[0,3,4,7,9,10...|(26,[0,3,4,7,9,10...|\n",
            "|  Male|            0|     No|        No|    16|         Yes|              No|             No|No internet service|No internet service|No internet service|No internet service|No internet service|No internet service|      Two year|              No|         18.95|   No|         0.0|(1,[0],[1.0])|          0.0|(1,[0],[1.0])|             0.0| (1,[0],[1.0])|               0.0|   (1,[0],[1.0])|                0.0|    (2,[0],[1.0])|                  2.0|          (2,[],[])|                 2.0|         (2,[],[])|               2.0|       (2,[],[])|                   2.0|           (2,[],[])|              2.0|      (2,[],[])|              2.0|      (2,[],[])|                  2.0|          (2,[],[])|           1.0|(2,[1],[1.0])|                   1.0|           (1,[],[])|  0.0|(26,[0,1,2,3,4,21...|(26,[0,1,2,3,4,21...|\n",
            "|  Male|            0|    Yes|        No|    58|         Yes|             Yes|    Fiber optic|                 No|                 No|                Yes|                 No|                Yes|                Yes|      One year|              No|        100.35|   No|         0.0|(1,[0],[1.0])|          1.0|    (1,[],[])|             0.0| (1,[0],[1.0])|               0.0|   (1,[0],[1.0])|                1.0|    (2,[1],[1.0])|                  0.0|      (2,[0],[1.0])|                 0.0|     (2,[0],[1.0])|               0.0|   (2,[0],[1.0])|                   1.0|       (2,[1],[1.0])|              0.0|  (2,[0],[1.0])|              1.0|  (2,[1],[1.0])|                  1.0|      (2,[1],[1.0])|           2.0|    (2,[],[])|                   1.0|           (1,[],[])|  0.0|(26,[0,2,3,5,6,8,...|(26,[0,2,3,5,6,8,...|\n",
            "|  Male|            0|     No|        No|    49|         Yes|             Yes|    Fiber optic|                 No|                Yes|                Yes|                 No|                Yes|                Yes|Month-to-month|             Yes|         103.7|  Yes|         0.0|(1,[0],[1.0])|          0.0|(1,[0],[1.0])|             0.0| (1,[0],[1.0])|               0.0|   (1,[0],[1.0])|                1.0|    (2,[1],[1.0])|                  0.0|      (2,[0],[1.0])|                 0.0|     (2,[0],[1.0])|               1.0|   (2,[1],[1.0])|                   1.0|       (2,[1],[1.0])|              0.0|  (2,[0],[1.0])|              1.0|  (2,[1],[1.0])|                  1.0|      (2,[1],[1.0])|           0.0|(2,[0],[1.0])|                   0.0|       (1,[0],[1.0])|  1.0|(26,[0,1,2,3,5,6,...|(26,[0,1,2,3,5,6,...|\n",
            "|  Male|            0|     No|        No|    25|         Yes|              No|    Fiber optic|                Yes|                 No|                Yes|                Yes|                Yes|                Yes|Month-to-month|             Yes|         105.5|   No|         0.0|(1,[0],[1.0])|          0.0|(1,[0],[1.0])|             0.0| (1,[0],[1.0])|               0.0|   (1,[0],[1.0])|                0.0|    (2,[0],[1.0])|                  0.0|      (2,[0],[1.0])|                 1.0|     (2,[1],[1.0])|               0.0|   (2,[0],[1.0])|                   1.0|       (2,[1],[1.0])|              1.0|  (2,[1],[1.0])|              1.0|  (2,[1],[1.0])|                  1.0|      (2,[1],[1.0])|           0.0|(2,[0],[1.0])|                   0.0|       (1,[0],[1.0])|  0.0|(26,[0,1,2,3,4,6,...|(26,[0,1,2,3,4,6,...|\n",
            "|Female|            0|    Yes|       Yes|    69|         Yes|             Yes|    Fiber optic|                Yes|                Yes|                Yes|                Yes|                Yes|                Yes|      Two year|              No|        113.25|   No|         1.0|    (1,[],[])|          1.0|    (1,[],[])|             1.0|     (1,[],[])|               0.0|   (1,[0],[1.0])|                1.0|    (2,[1],[1.0])|                  0.0|      (2,[0],[1.0])|                 1.0|     (2,[1],[1.0])|               1.0|   (2,[1],[1.0])|                   1.0|       (2,[1],[1.0])|              1.0|  (2,[1],[1.0])|              1.0|  (2,[1],[1.0])|                  1.0|      (2,[1],[1.0])|           1.0|(2,[1],[1.0])|                   1.0|           (1,[],[])|  0.0|(26,[3,5,6,9,11,1...|(26,[3,5,6,9,11,1...|\n",
            "|Female|            0|     No|        No|    52|         Yes|              No|             No|No internet service|No internet service|No internet service|No internet service|No internet service|No internet service|      One year|              No|         20.65|   No|         1.0|    (1,[],[])|          0.0|(1,[0],[1.0])|             0.0| (1,[0],[1.0])|               0.0|   (1,[0],[1.0])|                0.0|    (2,[0],[1.0])|                  2.0|          (2,[],[])|                 2.0|         (2,[],[])|               2.0|       (2,[],[])|                   2.0|           (2,[],[])|              2.0|      (2,[],[])|              2.0|      (2,[],[])|                  2.0|          (2,[],[])|           2.0|    (2,[],[])|                   1.0|           (1,[],[])|  0.0|(26,[1,2,3,4,24,2...|(26,[1,2,3,4,24,2...|\n",
            "|  Male|            0|     No|       Yes|    71|         Yes|             Yes|    Fiber optic|                Yes|                 No|                Yes|                 No|                Yes|                Yes|      Two year|              No|         106.7|   No|         0.0|(1,[0],[1.0])|          0.0|(1,[0],[1.0])|             1.0|     (1,[],[])|               0.0|   (1,[0],[1.0])|                1.0|    (2,[1],[1.0])|                  0.0|      (2,[0],[1.0])|                 1.0|     (2,[1],[1.0])|               0.0|   (2,[0],[1.0])|                   1.0|       (2,[1],[1.0])|              0.0|  (2,[0],[1.0])|              1.0|  (2,[1],[1.0])|                  1.0|      (2,[1],[1.0])|           1.0|(2,[1],[1.0])|                   1.0|           (1,[],[])|  0.0|(26,[0,1,3,5,6,9,...|(26,[0,1,3,5,6,9,...|\n",
            "|Female|            0|    Yes|       Yes|    10|         Yes|              No|            DSL|                 No|                 No|                Yes|                Yes|                 No|                 No|Month-to-month|              No|          55.2|  Yes|         1.0|    (1,[],[])|          1.0|    (1,[],[])|             1.0|     (1,[],[])|               0.0|   (1,[0],[1.0])|                0.0|    (2,[0],[1.0])|                  1.0|      (2,[1],[1.0])|                 0.0|     (2,[0],[1.0])|               0.0|   (2,[0],[1.0])|                   1.0|       (2,[1],[1.0])|              1.0|  (2,[1],[1.0])|              0.0|  (2,[0],[1.0])|                  0.0|      (2,[0],[1.0])|           0.0|(2,[0],[1.0])|                   1.0|           (1,[],[])|  1.0|(26,[3,4,7,8,10,1...|(26,[3,4,7,8,10,1...|\n",
            "|Female|            0|     No|        No|    21|         Yes|              No|    Fiber optic|                 No|                Yes|                Yes|                 No|                 No|                Yes|Month-to-month|             Yes|         90.05|   No|         1.0|    (1,[],[])|          0.0|(1,[0],[1.0])|             0.0| (1,[0],[1.0])|               0.0|   (1,[0],[1.0])|                0.0|    (2,[0],[1.0])|                  0.0|      (2,[0],[1.0])|                 0.0|     (2,[0],[1.0])|               1.0|   (2,[1],[1.0])|                   1.0|       (2,[1],[1.0])|              0.0|  (2,[0],[1.0])|              0.0|  (2,[0],[1.0])|                  1.0|      (2,[1],[1.0])|           0.0|(2,[0],[1.0])|                   0.0|       (1,[0],[1.0])|  0.0|(26,[1,2,3,4,6,8,...|(26,[1,2,3,4,6,8,...|\n",
            "+------+-------------+-------+----------+------+------------+----------------+---------------+-------------------+-------------------+-------------------+-------------------+-------------------+-------------------+--------------+----------------+--------------+-----+------------+-------------+-------------+-------------+----------------+--------------+------------------+----------------+-------------------+-----------------+---------------------+-------------------+--------------------+------------------+------------------+----------------+----------------------+--------------------+-----------------+---------------+-----------------+---------------+---------------------+-------------------+--------------+-------------+----------------------+--------------------+-----+--------------------+--------------------+\n",
            "only showing top 20 rows\n",
            "\n"
          ]
        }
      ]
    },
    {
      "cell_type": "code",
      "source": [
        ""
      ],
      "metadata": {
        "id": "7B6y06P0oBJx"
      },
      "execution_count": null,
      "outputs": []
    }
  ]
}